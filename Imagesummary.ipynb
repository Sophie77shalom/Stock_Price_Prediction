{
 "cells": [
  {
   "cell_type": "code",
   "execution_count": null,
   "id": "9d1b5bf0-542c-4d81-8f7d-3e5a2addf9c9",
   "metadata": {
    "vscode": {
     "languageId": "python"
    }
   },
   "outputs": [],
   "source": []
  }
 ],
 "metadata": {
  "kernelspec": {
   "display_name": "",
   "name": ""
  },
  "language_info": {
   "name": ""
  }
 },
 "nbformat": 4,
 "nbformat_minor": 5
}
